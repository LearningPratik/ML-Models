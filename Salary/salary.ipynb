{
 "cells": [
  {
   "cell_type": "markdown",
   "id": "6e4def14-a27d-4c1c-aec0-3cded80a3504",
   "metadata": {},
   "source": [
    "# Importing libraries"
   ]
  },
  {
   "cell_type": "code",
   "execution_count": 14,
   "id": "057d8245-0c11-41f4-8a70-d44afd358f43",
   "metadata": {},
   "outputs": [],
   "source": [
    "# for calculation\n",
    "import numpy as np\n",
    "# for tasks related to files\n",
    "import pandas as pd\n",
    "# for visvalization \n",
    "import matplotlib.pyplot as plt\n",
    "# for visvalization \n",
    "import seaborn as sns\n",
    "\n",
    "# for checking our models performance (difference between, what was actual value and what our model predicted)\n",
    "from sklearn.metrics import mean_absolute_error\n",
    "from sklearn.metrics import mean_squared_error\n",
    "from sklearn.metrics import r2_score"
   ]
  },
  {
   "cell_type": "markdown",
   "id": "abcc927a-015d-45a0-bc99-fc0f2e2ec330",
   "metadata": {},
   "source": [
    "# Reading CSV using pandas\n",
    "* <b>About data</b> : It contains a person's experience, their scores and the salary offered"
   ]
  },
  {
   "cell_type": "code",
   "execution_count": 4,
   "id": "167aabf9-2c71-4b31-90d1-3f4726a38f8b",
   "metadata": {},
   "outputs": [],
   "source": [
    "df = pd.read_csv('salary.csv')"
   ]
  },
  {
   "cell_type": "code",
   "execution_count": 3,
   "id": "37ca0650-054a-4646-a01d-049da5fdba3e",
   "metadata": {},
   "outputs": [
    {
     "data": {
      "text/html": [
       "<div>\n",
       "<style scoped>\n",
       "    .dataframe tbody tr th:only-of-type {\n",
       "        vertical-align: middle;\n",
       "    }\n",
       "\n",
       "    .dataframe tbody tr th {\n",
       "        vertical-align: top;\n",
       "    }\n",
       "\n",
       "    .dataframe thead th {\n",
       "        text-align: right;\n",
       "    }\n",
       "</style>\n",
       "<table border=\"1\" class=\"dataframe\">\n",
       "  <thead>\n",
       "    <tr style=\"text-align: right;\">\n",
       "      <th></th>\n",
       "      <th>experience</th>\n",
       "      <th>test_score</th>\n",
       "      <th>interview_score</th>\n",
       "      <th>Salary</th>\n",
       "    </tr>\n",
       "  </thead>\n",
       "  <tbody>\n",
       "    <tr>\n",
       "      <th>0</th>\n",
       "      <td>NaN</td>\n",
       "      <td>8.0</td>\n",
       "      <td>8.0</td>\n",
       "      <td>50000</td>\n",
       "    </tr>\n",
       "    <tr>\n",
       "      <th>1</th>\n",
       "      <td>NaN</td>\n",
       "      <td>5.0</td>\n",
       "      <td>4.0</td>\n",
       "      <td>22000</td>\n",
       "    </tr>\n",
       "    <tr>\n",
       "      <th>2</th>\n",
       "      <td>three</td>\n",
       "      <td>6.0</td>\n",
       "      <td>5.0</td>\n",
       "      <td>30000</td>\n",
       "    </tr>\n",
       "    <tr>\n",
       "      <th>3</th>\n",
       "      <td>five</td>\n",
       "      <td>9.0</td>\n",
       "      <td>9.0</td>\n",
       "      <td>55000</td>\n",
       "    </tr>\n",
       "    <tr>\n",
       "      <th>4</th>\n",
       "      <td>six</td>\n",
       "      <td>3.0</td>\n",
       "      <td>5.0</td>\n",
       "      <td>13000</td>\n",
       "    </tr>\n",
       "  </tbody>\n",
       "</table>\n",
       "</div>"
      ],
      "text/plain": [
       "  experience  test_score  interview_score  Salary\n",
       "0        NaN         8.0              8.0   50000\n",
       "1        NaN         5.0              4.0   22000\n",
       "2      three         6.0              5.0   30000\n",
       "3       five         9.0              9.0   55000\n",
       "4        six         3.0              5.0   13000"
      ]
     },
     "execution_count": 3,
     "metadata": {},
     "output_type": "execute_result"
    }
   ],
   "source": [
    "df.head()"
   ]
  },
  {
   "cell_type": "markdown",
   "id": "8dd67bdd-25c2-4149-b24b-54a01195a043",
   "metadata": {},
   "source": [
    "# Pandas describe gives us different values for our data\n",
    "\n",
    "* <b>Count</b> - counts the number of entries (rows it has)\n",
    "* <b>Mean</b> - What is the average for each column\n",
    "* <b>Standard deviation</b> - how much distance our data point have from our mean (dispersion our data have from the mean)\n",
    "* <b>Min</b> - Minimum value in each column\n",
    "* <b>25%, 50%, 75%</b> - These values are our percentiles - (How much percent data is in this range)\n",
    "* <b>Max</b> - maximum value for each column "
   ]
  },
  {
   "cell_type": "code",
   "execution_count": 4,
   "id": "cb22d2de-62f4-4925-ae1d-c619b5235f87",
   "metadata": {},
   "outputs": [
    {
     "data": {
      "text/html": [
       "<div>\n",
       "<style scoped>\n",
       "    .dataframe tbody tr th:only-of-type {\n",
       "        vertical-align: middle;\n",
       "    }\n",
       "\n",
       "    .dataframe tbody tr th {\n",
       "        vertical-align: top;\n",
       "    }\n",
       "\n",
       "    .dataframe thead th {\n",
       "        text-align: right;\n",
       "    }\n",
       "</style>\n",
       "<table border=\"1\" class=\"dataframe\">\n",
       "  <thead>\n",
       "    <tr style=\"text-align: right;\">\n",
       "      <th></th>\n",
       "      <th>test_score</th>\n",
       "      <th>interview_score</th>\n",
       "      <th>Salary</th>\n",
       "    </tr>\n",
       "  </thead>\n",
       "  <tbody>\n",
       "    <tr>\n",
       "      <th>count</th>\n",
       "      <td>19.000000</td>\n",
       "      <td>19.000000</td>\n",
       "      <td>20.000000</td>\n",
       "    </tr>\n",
       "    <tr>\n",
       "      <th>mean</th>\n",
       "      <td>5.447368</td>\n",
       "      <td>5.657895</td>\n",
       "      <td>30350.000000</td>\n",
       "    </tr>\n",
       "    <tr>\n",
       "      <th>std</th>\n",
       "      <td>2.832817</td>\n",
       "      <td>2.516902</td>\n",
       "      <td>19780.439567</td>\n",
       "    </tr>\n",
       "    <tr>\n",
       "      <th>min</th>\n",
       "      <td>1.000000</td>\n",
       "      <td>1.000000</td>\n",
       "      <td>500.000000</td>\n",
       "    </tr>\n",
       "    <tr>\n",
       "      <th>25%</th>\n",
       "      <td>3.000000</td>\n",
       "      <td>4.500000</td>\n",
       "      <td>12750.000000</td>\n",
       "    </tr>\n",
       "    <tr>\n",
       "      <th>50%</th>\n",
       "      <td>5.000000</td>\n",
       "      <td>6.000000</td>\n",
       "      <td>27500.000000</td>\n",
       "    </tr>\n",
       "    <tr>\n",
       "      <th>75%</th>\n",
       "      <td>8.000000</td>\n",
       "      <td>7.750000</td>\n",
       "      <td>48500.000000</td>\n",
       "    </tr>\n",
       "    <tr>\n",
       "      <th>max</th>\n",
       "      <td>9.000000</td>\n",
       "      <td>9.000000</td>\n",
       "      <td>60000.000000</td>\n",
       "    </tr>\n",
       "  </tbody>\n",
       "</table>\n",
       "</div>"
      ],
      "text/plain": [
       "       test_score  interview_score        Salary\n",
       "count   19.000000        19.000000     20.000000\n",
       "mean     5.447368         5.657895  30350.000000\n",
       "std      2.832817         2.516902  19780.439567\n",
       "min      1.000000         1.000000    500.000000\n",
       "25%      3.000000         4.500000  12750.000000\n",
       "50%      5.000000         6.000000  27500.000000\n",
       "75%      8.000000         7.750000  48500.000000\n",
       "max      9.000000         9.000000  60000.000000"
      ]
     },
     "execution_count": 4,
     "metadata": {},
     "output_type": "execute_result"
    }
   ],
   "source": [
    "df.describe()"
   ]
  },
  {
   "cell_type": "markdown",
   "id": "46e1589a-be45-443a-9ebc-05c6df047c66",
   "metadata": {},
   "source": [
    "* <b>Info()</b> - tells us about type, shape, memory of the dataset (our the columns in our dataset)"
   ]
  },
  {
   "cell_type": "code",
   "execution_count": 5,
   "id": "3bb072cc-ba46-4aab-b413-69a9cd2773ab",
   "metadata": {},
   "outputs": [
    {
     "name": "stdout",
     "output_type": "stream",
     "text": [
      "<class 'pandas.core.frame.DataFrame'>\n",
      "RangeIndex: 20 entries, 0 to 19\n",
      "Data columns (total 4 columns):\n",
      " #   Column           Non-Null Count  Dtype  \n",
      "---  ------           --------------  -----  \n",
      " 0   experience       15 non-null     object \n",
      " 1   test_score       19 non-null     float64\n",
      " 2   interview_score  19 non-null     float64\n",
      " 3   Salary           20 non-null     int64  \n",
      "dtypes: float64(2), int64(1), object(1)\n",
      "memory usage: 768.0+ bytes\n"
     ]
    }
   ],
   "source": [
    "df.info()"
   ]
  },
  {
   "cell_type": "code",
   "execution_count": 7,
   "id": "71105703-f59f-4b6d-8653-15e3d8dd68a2",
   "metadata": {},
   "outputs": [
    {
     "data": {
      "text/html": [
       "<div>\n",
       "<style scoped>\n",
       "    .dataframe tbody tr th:only-of-type {\n",
       "        vertical-align: middle;\n",
       "    }\n",
       "\n",
       "    .dataframe tbody tr th {\n",
       "        vertical-align: top;\n",
       "    }\n",
       "\n",
       "    .dataframe thead th {\n",
       "        text-align: right;\n",
       "    }\n",
       "</style>\n",
       "<table border=\"1\" class=\"dataframe\">\n",
       "  <thead>\n",
       "    <tr style=\"text-align: right;\">\n",
       "      <th></th>\n",
       "      <th>experience</th>\n",
       "      <th>test_score</th>\n",
       "      <th>interview_score</th>\n",
       "      <th>Salary</th>\n",
       "    </tr>\n",
       "  </thead>\n",
       "  <tbody>\n",
       "    <tr>\n",
       "      <th>0</th>\n",
       "      <td>NaN</td>\n",
       "      <td>8.0</td>\n",
       "      <td>8.0</td>\n",
       "      <td>50000</td>\n",
       "    </tr>\n",
       "    <tr>\n",
       "      <th>1</th>\n",
       "      <td>NaN</td>\n",
       "      <td>5.0</td>\n",
       "      <td>4.0</td>\n",
       "      <td>22000</td>\n",
       "    </tr>\n",
       "    <tr>\n",
       "      <th>2</th>\n",
       "      <td>three</td>\n",
       "      <td>6.0</td>\n",
       "      <td>5.0</td>\n",
       "      <td>30000</td>\n",
       "    </tr>\n",
       "    <tr>\n",
       "      <th>3</th>\n",
       "      <td>five</td>\n",
       "      <td>9.0</td>\n",
       "      <td>9.0</td>\n",
       "      <td>55000</td>\n",
       "    </tr>\n",
       "    <tr>\n",
       "      <th>4</th>\n",
       "      <td>six</td>\n",
       "      <td>3.0</td>\n",
       "      <td>5.0</td>\n",
       "      <td>13000</td>\n",
       "    </tr>\n",
       "    <tr>\n",
       "      <th>5</th>\n",
       "      <td>NaN</td>\n",
       "      <td>2.0</td>\n",
       "      <td>1.0</td>\n",
       "      <td>9000</td>\n",
       "    </tr>\n",
       "    <tr>\n",
       "      <th>6</th>\n",
       "      <td>ten</td>\n",
       "      <td>8.0</td>\n",
       "      <td>6.0</td>\n",
       "      <td>48000</td>\n",
       "    </tr>\n",
       "    <tr>\n",
       "      <th>7</th>\n",
       "      <td>one</td>\n",
       "      <td>1.0</td>\n",
       "      <td>2.0</td>\n",
       "      <td>500</td>\n",
       "    </tr>\n",
       "    <tr>\n",
       "      <th>8</th>\n",
       "      <td>fifteen</td>\n",
       "      <td>9.0</td>\n",
       "      <td>9.0</td>\n",
       "      <td>60000</td>\n",
       "    </tr>\n",
       "    <tr>\n",
       "      <th>9</th>\n",
       "      <td>thirteen</td>\n",
       "      <td>7.5</td>\n",
       "      <td>7.5</td>\n",
       "      <td>45000</td>\n",
       "    </tr>\n",
       "    <tr>\n",
       "      <th>10</th>\n",
       "      <td>ten</td>\n",
       "      <td>NaN</td>\n",
       "      <td>5.0</td>\n",
       "      <td>25000</td>\n",
       "    </tr>\n",
       "    <tr>\n",
       "      <th>11</th>\n",
       "      <td>NaN</td>\n",
       "      <td>1.0</td>\n",
       "      <td>1.0</td>\n",
       "      <td>500</td>\n",
       "    </tr>\n",
       "    <tr>\n",
       "      <th>12</th>\n",
       "      <td>one</td>\n",
       "      <td>3.0</td>\n",
       "      <td>6.0</td>\n",
       "      <td>25000</td>\n",
       "    </tr>\n",
       "    <tr>\n",
       "      <th>13</th>\n",
       "      <td>four</td>\n",
       "      <td>5.0</td>\n",
       "      <td>4.0</td>\n",
       "      <td>36000</td>\n",
       "    </tr>\n",
       "    <tr>\n",
       "      <th>14</th>\n",
       "      <td>six</td>\n",
       "      <td>5.0</td>\n",
       "      <td>NaN</td>\n",
       "      <td>8000</td>\n",
       "    </tr>\n",
       "    <tr>\n",
       "      <th>15</th>\n",
       "      <td>eleven</td>\n",
       "      <td>9.0</td>\n",
       "      <td>8.0</td>\n",
       "      <td>55000</td>\n",
       "    </tr>\n",
       "    <tr>\n",
       "      <th>16</th>\n",
       "      <td>twelve</td>\n",
       "      <td>9.0</td>\n",
       "      <td>9.0</td>\n",
       "      <td>58000</td>\n",
       "    </tr>\n",
       "    <tr>\n",
       "      <th>17</th>\n",
       "      <td>NaN</td>\n",
       "      <td>2.0</td>\n",
       "      <td>6.0</td>\n",
       "      <td>12000</td>\n",
       "    </tr>\n",
       "    <tr>\n",
       "      <th>18</th>\n",
       "      <td>three</td>\n",
       "      <td>5.0</td>\n",
       "      <td>5.0</td>\n",
       "      <td>20000</td>\n",
       "    </tr>\n",
       "    <tr>\n",
       "      <th>19</th>\n",
       "      <td>five</td>\n",
       "      <td>6.0</td>\n",
       "      <td>7.0</td>\n",
       "      <td>35000</td>\n",
       "    </tr>\n",
       "  </tbody>\n",
       "</table>\n",
       "</div>"
      ],
      "text/plain": [
       "   experience  test_score  interview_score  Salary\n",
       "0         NaN         8.0              8.0   50000\n",
       "1         NaN         5.0              4.0   22000\n",
       "2       three         6.0              5.0   30000\n",
       "3        five         9.0              9.0   55000\n",
       "4         six         3.0              5.0   13000\n",
       "5         NaN         2.0              1.0    9000\n",
       "6         ten         8.0              6.0   48000\n",
       "7         one         1.0              2.0     500\n",
       "8     fifteen         9.0              9.0   60000\n",
       "9    thirteen         7.5              7.5   45000\n",
       "10        ten         NaN              5.0   25000\n",
       "11        NaN         1.0              1.0     500\n",
       "12        one         3.0              6.0   25000\n",
       "13       four         5.0              4.0   36000\n",
       "14        six         5.0              NaN    8000\n",
       "15     eleven         9.0              8.0   55000\n",
       "16     twelve         9.0              9.0   58000\n",
       "17        NaN         2.0              6.0   12000\n",
       "18      three         5.0              5.0   20000\n",
       "19       five         6.0              7.0   35000"
      ]
     },
     "execution_count": 7,
     "metadata": {},
     "output_type": "execute_result"
    }
   ],
   "source": [
    "# As we can see many NaN values in experience and 1-1 in other two\n",
    "df"
   ]
  },
  {
   "cell_type": "markdown",
   "id": "edfd0a2c-06bd-4b7a-b906-21f8b31a697b",
   "metadata": {},
   "source": [
    "* Checking the standard deviation for the two columns, I left experience column as it has many NaN values, so wanted to check the other        columns first"
   ]
  },
  {
   "cell_type": "code",
   "execution_count": 6,
   "id": "60dbe8fd-ab47-4037-b113-6ecfa0466303",
   "metadata": {},
   "outputs": [
    {
     "data": {
      "text/plain": [
       "test_score             2.832817\n",
       "interview_score        2.516902\n",
       "Salary             19780.439567\n",
       "dtype: float64"
      ]
     },
     "execution_count": 6,
     "metadata": {},
     "output_type": "execute_result"
    }
   ],
   "source": [
    "df.iloc[:, 1:].std()"
   ]
  },
  {
   "cell_type": "markdown",
   "id": "462bb191-a72d-44cd-9a3e-f2d59b233295",
   "metadata": {},
   "source": [
    "# Cleaning data - \n",
    "* Why mode ? We should try different methods to check models performance, as mean could be affected from the outlier it is sometimes safer                to use mode - it gives us the most frequently occuring value in that column\n",
    "* Replacing missing values with method - fillna and using mode function on that column"
   ]
  },
  {
   "cell_type": "code",
   "execution_count": 8,
   "id": "1e89f981-36ab-44ac-a796-19c3d01b0271",
   "metadata": {},
   "outputs": [],
   "source": [
    "# df = df.loc[df['test_score'].isnull()].apply(lambda x : x.mode())\n",
    "df['test_score'].fillna(df['test_score'].mode()[0], inplace=True)"
   ]
  },
  {
   "cell_type": "code",
   "execution_count": 9,
   "id": "56e86994-0faf-45d2-bee8-223b125791d7",
   "metadata": {},
   "outputs": [],
   "source": [
    "# df = df.loc[df['test_score'].isnull()].apply(lambda x : x.mode())\n",
    "df['interview_score'].fillna(df['interview_score'].mode()[0], inplace=True)"
   ]
  },
  {
   "cell_type": "markdown",
   "id": "fb072d2e-7092-41db-b715-74bb2f1b5ece",
   "metadata": {},
   "source": [
    "* Created a range of (lower fence - higher fenece) to check if the dataset has any outliers\n",
    "* We can check lower fence using formula = <b>Q1 - 1.5(IQR)</b>\n",
    "* Higher fence = <b>Q3 + 1.5(IQR)</b>\n",
    "* <b>Q1 = 25 percentile and IQR = (Q3 - Q1), where Q3 = 75 percentile</b>\n",
    "* <b>IQR = Interquartile range (tells us that where most of the data lie)</b>\n",
    "\n",
    "#### Using this I found out the range (-4.5 - 17.5)"
   ]
  },
  {
   "cell_type": "code",
   "execution_count": 10,
   "id": "4fd8a942-fbca-48a1-b027-26fdfa9d1a59",
   "metadata": {},
   "outputs": [
    {
     "name": "stdout",
     "output_type": "stream",
     "text": [
      "No\n"
     ]
    }
   ],
   "source": [
    "if df.test_score.any() >= 17.5:\n",
    "    print('Outlier')\n",
    "else:\n",
    "    print('No')"
   ]
  },
  {
   "cell_type": "code",
   "execution_count": 11,
   "id": "20fbc041-b7aa-425a-bd67-64e2253860bf",
   "metadata": {},
   "outputs": [
    {
     "data": {
      "text/plain": [
       "5.0"
      ]
     },
     "execution_count": 11,
     "metadata": {},
     "output_type": "execute_result"
    }
   ],
   "source": [
    "# checking median\n",
    "df.test_score.median()"
   ]
  },
  {
   "cell_type": "markdown",
   "id": "c1a0f53d-8d0a-4f91-82a9-390f7475386a",
   "metadata": {},
   "source": [
    "#### Used boxplot to visvualize the spread of the data for test and interview score column"
   ]
  },
  {
   "cell_type": "code",
   "execution_count": 15,
   "id": "4ce5872d-e58d-49aa-9d98-74fd0c16af6a",
   "metadata": {},
   "outputs": [
    {
     "data": {
      "image/png": "[encoded data removed]",
      "text/plain": [
       "<Figure size 432x288 with 1 Axes>"
      ]
     },
     "metadata": {
      "needs_background": "light"
     },
     "output_type": "display_data"
    }
   ],
   "source": [
    "x = df.iloc[:, 1:-1]\n",
    "plt.boxplot(x)\n",
    "plt.show()"
   ]
  },
  {
   "cell_type": "code",
   "execution_count": 16,
   "id": "718aee45-f0f1-4971-9242-c4a4aa7f9a6c",
   "metadata": {},
   "outputs": [
    {
     "data": {
      "text/plain": [
       "<AxesSubplot:>"
      ]
     },
     "execution_count": 16,
     "metadata": {},
     "output_type": "execute_result"
    },
    {
     "data": {
      "image/png": "[encoded data removed]",
      "text/plain": [
       "<Figure size 432x288 with 1 Axes>"
      ]
     },
     "metadata": {
      "needs_background": "light"
     },
     "output_type": "display_data"
    }
   ],
   "source": [
    "# Seaborn for better visvualization\n",
    "import seaborn as sns\n",
    "sns.boxplot(x)"
   ]
  },
  {
   "cell_type": "markdown",
   "id": "926064d3-c6e2-4934-bc57-97642e6f0649",
   "metadata": {},
   "source": [
    "#### Handling categorical values:\n",
    "* There are several ways to do it - OneHotEncoding, getting dummies and also LabelEncoding(used for dependent labels but could be used for     independent variables)\n",
    "* But as we can see there not not many unique categories, I decided to go with Map function"
   ]
  },
  {
   "cell_type": "code",
   "execution_count": 9,
   "id": "97705673-aa44-46aa-932e-89d7caa5328e",
   "metadata": {},
   "outputs": [
    {
     "data": {
      "text/plain": [
       "array([nan, 'three', 'five', 'six', 'ten', 'one', 'fifteen', 'thirteen',\n",
       "       'four', 'eleven', 'twelve'], dtype=object)"
      ]
     },
     "execution_count": 9,
     "metadata": {},
     "output_type": "execute_result"
    }
   ],
   "source": [
    "df.experience.unique()"
   ]
  },
  {
   "cell_type": "code",
   "execution_count": 10,
   "id": "654a1cae-51d0-409a-ba9e-0f4212bc719e",
   "metadata": {},
   "outputs": [],
   "source": [
    "df['experience'] = df['experience'].map({'three' : 3, 'five' : 5, 'six' : 6, 'ten' : 10, 'one' : 1, 'fifteen' : 15, 'thirteen' : 13, \n",
    "                                        'four' : 4, 'eleven' : 11, 'twelve' : 12})"
   ]
  },
  {
   "cell_type": "markdown",
   "id": "eb941bed-9a70-4a87-bf4d-a992ac1fe9df",
   "metadata": {},
   "source": [
    "#### After converting categorical to numerical, we can now check the correlation of independent variables to dependent variable \n",
    "* As we can see test and interview score are highly co-related to Salary when compared to experience column"
   ]
  },
  {
   "cell_type": "code",
   "execution_count": 11,
   "id": "44c92e00-e9dc-4c9d-930f-28cf6e4e9178",
   "metadata": {},
   "outputs": [
    {
     "data": {
      "text/plain": [
       "experience         0.683377\n",
       "test_score         0.947761\n",
       "interview_score    0.882128\n",
       "Salary             1.000000\n",
       "Name: Salary, dtype: float64"
      ]
     },
     "execution_count": 11,
     "metadata": {},
     "output_type": "execute_result"
    }
   ],
   "source": [
    "df.corr()['Salary']"
   ]
  },
  {
   "cell_type": "markdown",
   "id": "61036116-becb-485d-a020-5bcdb089dd7c",
   "metadata": {},
   "source": [
    "* Handling missing values in experince column, checking with median method"
   ]
  },
  {
   "cell_type": "code",
   "execution_count": 19,
   "id": "05c50852-e559-4e57-87e8-07df49865d3d",
   "metadata": {},
   "outputs": [],
   "source": [
    "# df = df.loc[df['test_score'].isnull()].apply(lambda x : x.mode())\n",
    "df['experience'].fillna(df['experience'].median(), inplace=True)"
   ]
  },
  {
   "cell_type": "code",
   "execution_count": 20,
   "id": "ce4ed257-b856-4b8b-b42b-71aa4775fb0d",
   "metadata": {},
   "outputs": [
    {
     "data": {
      "text/html": [
       "<div>\n",
       "<style scoped>\n",
       "    .dataframe tbody tr th:only-of-type {\n",
       "        vertical-align: middle;\n",
       "    }\n",
       "\n",
       "    .dataframe tbody tr th {\n",
       "        vertical-align: top;\n",
       "    }\n",
       "\n",
       "    .dataframe thead th {\n",
       "        text-align: right;\n",
       "    }\n",
       "</style>\n",
       "<table border=\"1\" class=\"dataframe\">\n",
       "  <thead>\n",
       "    <tr style=\"text-align: right;\">\n",
       "      <th></th>\n",
       "      <th>experience</th>\n",
       "      <th>test_score</th>\n",
       "      <th>interview_score</th>\n",
       "      <th>Salary</th>\n",
       "    </tr>\n",
       "  </thead>\n",
       "  <tbody>\n",
       "    <tr>\n",
       "      <th>0</th>\n",
       "      <td>6.0</td>\n",
       "      <td>8.0</td>\n",
       "      <td>8.0</td>\n",
       "      <td>50000</td>\n",
       "    </tr>\n",
       "    <tr>\n",
       "      <th>1</th>\n",
       "      <td>6.0</td>\n",
       "      <td>5.0</td>\n",
       "      <td>4.0</td>\n",
       "      <td>22000</td>\n",
       "    </tr>\n",
       "    <tr>\n",
       "      <th>2</th>\n",
       "      <td>3.0</td>\n",
       "      <td>6.0</td>\n",
       "      <td>5.0</td>\n",
       "      <td>30000</td>\n",
       "    </tr>\n",
       "    <tr>\n",
       "      <th>3</th>\n",
       "      <td>5.0</td>\n",
       "      <td>9.0</td>\n",
       "      <td>9.0</td>\n",
       "      <td>55000</td>\n",
       "    </tr>\n",
       "    <tr>\n",
       "      <th>4</th>\n",
       "      <td>6.0</td>\n",
       "      <td>3.0</td>\n",
       "      <td>5.0</td>\n",
       "      <td>13000</td>\n",
       "    </tr>\n",
       "  </tbody>\n",
       "</table>\n",
       "</div>"
      ],
      "text/plain": [
       "   experience  test_score  interview_score  Salary\n",
       "0         6.0         8.0              8.0   50000\n",
       "1         6.0         5.0              4.0   22000\n",
       "2         3.0         6.0              5.0   30000\n",
       "3         5.0         9.0              9.0   55000\n",
       "4         6.0         3.0              5.0   13000"
      ]
     },
     "execution_count": 20,
     "metadata": {},
     "output_type": "execute_result"
    }
   ],
   "source": [
    "df.head()"
   ]
  },
  {
   "cell_type": "markdown",
   "id": "deadb56f-50d2-4d39-9351-967542ac662c",
   "metadata": {},
   "source": [
    "# Visvualizing the data\n",
    "* Here, I used sns's lmplot to put the data points in a scattered manner to get an idea about data\n",
    "* Used a line - to see the relationship of test_score with Salary"
   ]
  },
  {
   "cell_type": "code",
   "execution_count": 21,
   "id": "4e5d093e-2c33-4e42-822f-a66877caca06",
   "metadata": {},
   "outputs": [
    {
     "data": {
      "text/plain": [
       "<seaborn.axisgrid.FacetGrid at 0x7f3ac37ffd60>"
      ]
     },
     "execution_count": 21,
     "metadata": {},
     "output_type": "execute_result"
    },
    {
     "data": {
      "image/png": "[encoded data removed]",
      "text/plain": [
       "<Figure size 360x360 with 1 Axes>"
      ]
     },
     "metadata": {
      "needs_background": "light"
     },
     "output_type": "display_data"
    }
   ],
   "source": [
    "sns.lmplot(x = 'test_score', y = 'Salary', data = df, fit_reg = True)"
   ]
  },
  {
   "cell_type": "markdown",
   "id": "6d3e7f5e-50fc-435e-90c8-7156c82e0736",
   "metadata": {},
   "source": [
    "### Used a line - to see the relationship of interview_score with Salary"
   ]
  },
  {
   "cell_type": "code",
   "execution_count": 16,
   "id": "43ef988e-fba3-479f-b341-a3877838a546",
   "metadata": {},
   "outputs": [
    {
     "data": {
      "text/plain": [
       "<seaborn.axisgrid.FacetGrid at 0x7f3ac3c88400>"
      ]
     },
     "execution_count": 16,
     "metadata": {},
     "output_type": "execute_result"
    },
    {
     "data": {
      "image/png": "[encoded data removed]",
      "text/plain": [
       "<Figure size 360x360 with 1 Axes>"
      ]
     },
     "metadata": {
      "needs_background": "light"
     },
     "output_type": "display_data"
    }
   ],
   "source": [
    "sns.lmplot(x = 'interview_score', y = 'Salary', data = df, fit_reg = True, ci = None)"
   ]
  },
  {
   "cell_type": "code",
   "execution_count": 17,
   "id": "31c483cd-afe2-40c8-8096-009a63d5bea7",
   "metadata": {},
   "outputs": [
    {
     "data": {
      "text/plain": [
       "<seaborn.axisgrid.FacetGrid at 0x7f3ac3822f50>"
      ]
     },
     "execution_count": 17,
     "metadata": {},
     "output_type": "execute_result"
    },
    {
     "data": {
      "image/png": "[encoded data removed]",
      "text/plain": [
       "<Figure size 360x360 with 1 Axes>"
      ]
     },
     "metadata": {
      "needs_background": "light"
     },
     "output_type": "display_data"
    }
   ],
   "source": [
    "sns.lmplot(x = 'experience', y = 'Salary', data = df, fit_reg = True, ci = None)"
   ]
  },
  {
   "cell_type": "code",
   "execution_count": null,
   "id": "b04c6e6f-40d3-4ff8-b377-74bd1eeb480c",
   "metadata": {},
   "outputs": [],
   "source": [
    "df.plot.hist(y='Salary')\n",
    "plt.show()\n",
    "# Looks like a balanced dataset"
   ]
  },
  {
   "cell_type": "code",
   "execution_count": 21,
   "id": "79d5861e-ebdf-42cf-a998-f1c1722c9e81",
   "metadata": {},
   "outputs": [],
   "source": [
    "train = df.loc[:15]\n",
    "test = df.loc[16:]"
   ]
  },
  {
   "cell_type": "code",
   "execution_count": 22,
   "id": "285da3ff-37c8-45ca-9cd3-f40738ac3f4c",
   "metadata": {},
   "outputs": [],
   "source": [
    "from sklearn.linear_model import LinearRegression\n",
    "model = LinearRegression()"
   ]
  },
  {
   "cell_type": "code",
   "execution_count": 27,
   "id": "d4963437-6544-428a-b4d3-9f7f4f42dad9",
   "metadata": {},
   "outputs": [],
   "source": [
    "x_train = train.iloc[:, :-1]\n",
    "y_train = train.iloc[:, -1]"
   ]
  },
  {
   "cell_type": "code",
   "execution_count": 28,
   "id": "3921260a-60c1-481b-8946-35bb40ccd792",
   "metadata": {},
   "outputs": [
    {
     "data": {
      "text/html": [
       "<style>#sk-container-id-1 {color: black;}#sk-container-id-1 pre{padding: 0;}#sk-container-id-1 div.sk-toggleable {background-color: white;}#sk-container-id-1 label.sk-toggleable__label {cursor: pointer;display: block;width: 100%;margin-bottom: 0;padding: 0.3em;box-sizing: border-box;text-align: center;}#sk-container-id-1 label.sk-toggleable__label-arrow:before {content: \"▸\";float: left;margin-right: 0.25em;color: #696969;}#sk-container-id-1 label.sk-toggleable__label-arrow:hover:before {color: black;}#sk-container-id-1 div.sk-estimator:hover label.sk-toggleable__label-arrow:before {color: black;}#sk-container-id-1 div.sk-toggleable__content {max-height: 0;max-width: 0;overflow: hidden;text-align: left;background-color: #f0f8ff;}#sk-container-id-1 div.sk-toggleable__content pre {margin: 0.2em;color: black;border-radius: 0.25em;background-color: #f0f8ff;}#sk-container-id-1 input.sk-toggleable__control:checked~div.sk-toggleable__content {max-height: 200px;max-width: 100%;overflow: auto;}#sk-container-id-1 input.sk-toggleable__control:checked~label.sk-toggleable__label-arrow:before {content: \"▾\";}#sk-container-id-1 div.sk-estimator input.sk-toggleable__control:checked~label.sk-toggleable__label {background-color: #d4ebff;}#sk-container-id-1 div.sk-label input.sk-toggleable__control:checked~label.sk-toggleable__label {background-color: #d4ebff;}#sk-container-id-1 input.sk-hidden--visually {border: 0;clip: rect(1px 1px 1px 1px);clip: rect(1px, 1px, 1px, 1px);height: 1px;margin: -1px;overflow: hidden;padding: 0;position: absolute;width: 1px;}#sk-container-id-1 div.sk-estimator {font-family: monospace;background-color: #f0f8ff;border: 1px dotted black;border-radius: 0.25em;box-sizing: border-box;margin-bottom: 0.5em;}#sk-container-id-1 div.sk-estimator:hover {background-color: #d4ebff;}#sk-container-id-1 div.sk-parallel-item::after {content: \"\";width: 100%;border-bottom: 1px solid gray;flex-grow: 1;}#sk-container-id-1 div.sk-label:hover label.sk-toggleable__label {background-color: #d4ebff;}#sk-container-id-1 div.sk-serial::before {content: \"\";position: absolute;border-left: 1px solid gray;box-sizing: border-box;top: 0;bottom: 0;left: 50%;z-index: 0;}#sk-container-id-1 div.sk-serial {display: flex;flex-direction: column;align-items: center;background-color: white;padding-right: 0.2em;padding-left: 0.2em;position: relative;}#sk-container-id-1 div.sk-item {position: relative;z-index: 1;}#sk-container-id-1 div.sk-parallel {display: flex;align-items: stretch;justify-content: center;background-color: white;position: relative;}#sk-container-id-1 div.sk-item::before, #sk-container-id-1 div.sk-parallel-item::before {content: \"\";position: absolute;border-left: 1px solid gray;box-sizing: border-box;top: 0;bottom: 0;left: 50%;z-index: -1;}#sk-container-id-1 div.sk-parallel-item {display: flex;flex-direction: column;z-index: 1;position: relative;background-color: white;}#sk-container-id-1 div.sk-parallel-item:first-child::after {align-self: flex-end;width: 50%;}#sk-container-id-1 div.sk-parallel-item:last-child::after {align-self: flex-start;width: 50%;}#sk-container-id-1 div.sk-parallel-item:only-child::after {width: 0;}#sk-container-id-1 div.sk-dashed-wrapped {border: 1px dashed gray;margin: 0 0.4em 0.5em 0.4em;box-sizing: border-box;padding-bottom: 0.4em;background-color: white;}#sk-container-id-1 div.sk-label label {font-family: monospace;font-weight: bold;display: inline-block;line-height: 1.2em;}#sk-container-id-1 div.sk-label-container {text-align: center;}#sk-container-id-1 div.sk-container {/* jupyter's `normalize.less` sets `[hidden] { display: none; }` but bootstrap.min.css set `[hidden] { display: none !important; }` so we also need the `!important` here to be able to override the default hidden behavior on the sphinx rendered scikit-learn.org. See: https://github.com/scikit-learn/scikit-learn/issues/21755 */display: inline-block !important;position: relative;}#sk-container-id-1 div.sk-text-repr-fallback {display: none;}</style><div id=\"sk-container-id-1\" class=\"sk-top-container\"><div class=\"sk-text-repr-fallback\"><pre>LinearRegression()</pre><b>In a Jupyter environment, please rerun this cell to show the HTML representation or trust the notebook. <br />On GitHub, the HTML representation is unable to render, please try loading this page with nbviewer.org.</b></div><div class=\"sk-container\" hidden><div class=\"sk-item\"><div class=\"sk-estimator sk-toggleable\"><input class=\"sk-toggleable__control sk-hidden--visually\" id=\"sk-estimator-id-1\" type=\"checkbox\" checked><label for=\"sk-estimator-id-1\" class=\"sk-toggleable__label sk-toggleable__label-arrow\">LinearRegression</label><div class=\"sk-toggleable__content\"><pre>LinearRegression()</pre></div></div></div></div></div>"
      ],
      "text/plain": [
       "LinearRegression()"
      ]
     },
     "execution_count": 28,
     "metadata": {},
     "output_type": "execute_result"
    }
   ],
   "source": [
    "model.fit(x_train, y_train)"
   ]
  },
  {
   "cell_type": "code",
   "execution_count": 30,
   "id": "583d7573-4683-4db2-9b8c-338d9262fe38",
   "metadata": {},
   "outputs": [],
   "source": [
    "x_test = test.iloc[:, :-1]"
   ]
  },
  {
   "cell_type": "code",
   "execution_count": 32,
   "id": "7ad32047-2a81-40d1-a2ea-fb3a2581a098",
   "metadata": {},
   "outputs": [],
   "source": [
    "predictions = model.predict(x_test)"
   ]
  },
  {
   "cell_type": "code",
   "execution_count": 33,
   "id": "ef47a378-ccd3-4434-b157-0d3c26ef1f26",
   "metadata": {},
   "outputs": [
    {
     "data": {
      "text/plain": [
       "array([55670.87973574, 12415.32902766, 27404.97262366, 36071.2023821 ])"
      ]
     },
     "execution_count": 33,
     "metadata": {},
     "output_type": "execute_result"
    }
   ],
   "source": [
    "predictions"
   ]
  },
  {
   "cell_type": "code",
   "execution_count": 34,
   "id": "025017a7-f7ff-4a41-8060-b249b0a9a211",
   "metadata": {},
   "outputs": [],
   "source": [
    "x_test['predictions'] = predictions"
   ]
  },
  {
   "cell_type": "code",
   "execution_count": 35,
   "id": "1500a0ac-1175-46b7-a2e2-e7cf4723d23f",
   "metadata": {},
   "outputs": [
    {
     "data": {
      "text/html": [
       "<div>\n",
       "<style scoped>\n",
       "    .dataframe tbody tr th:only-of-type {\n",
       "        vertical-align: middle;\n",
       "    }\n",
       "\n",
       "    .dataframe tbody tr th {\n",
       "        vertical-align: top;\n",
       "    }\n",
       "\n",
       "    .dataframe thead th {\n",
       "        text-align: right;\n",
       "    }\n",
       "</style>\n",
       "<table border=\"1\" class=\"dataframe\">\n",
       "  <thead>\n",
       "    <tr style=\"text-align: right;\">\n",
       "      <th></th>\n",
       "      <th>experience</th>\n",
       "      <th>test_score</th>\n",
       "      <th>interview_score</th>\n",
       "      <th>predictions</th>\n",
       "    </tr>\n",
       "  </thead>\n",
       "  <tbody>\n",
       "    <tr>\n",
       "      <th>16</th>\n",
       "      <td>12.0</td>\n",
       "      <td>9.0</td>\n",
       "      <td>9.0</td>\n",
       "      <td>55670.879736</td>\n",
       "    </tr>\n",
       "    <tr>\n",
       "      <th>17</th>\n",
       "      <td>6.0</td>\n",
       "      <td>2.0</td>\n",
       "      <td>6.0</td>\n",
       "      <td>12415.329028</td>\n",
       "    </tr>\n",
       "    <tr>\n",
       "      <th>18</th>\n",
       "      <td>3.0</td>\n",
       "      <td>5.0</td>\n",
       "      <td>5.0</td>\n",
       "      <td>27404.972624</td>\n",
       "    </tr>\n",
       "    <tr>\n",
       "      <th>19</th>\n",
       "      <td>5.0</td>\n",
       "      <td>6.0</td>\n",
       "      <td>7.0</td>\n",
       "      <td>36071.202382</td>\n",
       "    </tr>\n",
       "  </tbody>\n",
       "</table>\n",
       "</div>"
      ],
      "text/plain": [
       "    experience  test_score  interview_score   predictions\n",
       "16        12.0         9.0              9.0  55670.879736\n",
       "17         6.0         2.0              6.0  12415.329028\n",
       "18         3.0         5.0              5.0  27404.972624\n",
       "19         5.0         6.0              7.0  36071.202382"
      ]
     },
     "execution_count": 35,
     "metadata": {},
     "output_type": "execute_result"
    }
   ],
   "source": [
    "x_test"
   ]
  },
  {
   "cell_type": "code",
   "execution_count": 36,
   "id": "26888d40-63d6-4a46-9d3c-87efd3a19c30",
   "metadata": {},
   "outputs": [],
   "source": [
    "x_test['predictions'] = x_test['predictions'].astype('int') # or we can use round()"
   ]
  },
  {
   "cell_type": "code",
   "execution_count": 38,
   "id": "384e6fb1-1e67-46be-b4fe-209a3c892897",
   "metadata": {},
   "outputs": [],
   "source": [
    "from sklearn.metrics import mean_absolute_error\n",
    "error = mean_absolute_error(test['Salary'], x_test['predictions'])"
   ]
  },
  {
   "cell_type": "code",
   "execution_count": 39,
   "id": "b72e1c8e-0a35-4711-9726-af4f24b984fd",
   "metadata": {},
   "outputs": [
    {
     "data": {
      "text/plain": [
       "2805.0"
      ]
     },
     "execution_count": 39,
     "metadata": {},
     "output_type": "execute_result"
    }
   ],
   "source": [
    "error"
   ]
  },
  {
   "cell_type": "code",
   "execution_count": 40,
   "id": "8431fef1-f082-45ef-82eb-ffe720a85e30",
   "metadata": {},
   "outputs": [
    {
     "data": {
      "text/plain": [
       "16    2330\n",
       "17    -415\n",
       "18   -7404\n",
       "19   -1071\n",
       "dtype: int64"
      ]
     },
     "execution_count": 40,
     "metadata": {},
     "output_type": "execute_result"
    }
   ],
   "source": [
    "errors = test['Salary'] - x_test['predictions']\n",
    "errors"
   ]
  },
  {
   "cell_type": "code",
   "execution_count": 41,
   "id": "a2f27b8f-7323-4796-93ec-91d43928bc17",
   "metadata": {},
   "outputs": [],
   "source": [
    "predictors = ['test_score', 'interview_score']\n",
    "target = 'Salary'"
   ]
  },
  {
   "cell_type": "code",
   "execution_count": 42,
   "id": "d2795499-135f-4d90-bddf-252626b3cb5d",
   "metadata": {},
   "outputs": [
    {
     "data": {
      "text/html": [
       "<style>#sk-container-id-2 {color: black;}#sk-container-id-2 pre{padding: 0;}#sk-container-id-2 div.sk-toggleable {background-color: white;}#sk-container-id-2 label.sk-toggleable__label {cursor: pointer;display: block;width: 100%;margin-bottom: 0;padding: 0.3em;box-sizing: border-box;text-align: center;}#sk-container-id-2 label.sk-toggleable__label-arrow:before {content: \"▸\";float: left;margin-right: 0.25em;color: #696969;}#sk-container-id-2 label.sk-toggleable__label-arrow:hover:before {color: black;}#sk-container-id-2 div.sk-estimator:hover label.sk-toggleable__label-arrow:before {color: black;}#sk-container-id-2 div.sk-toggleable__content {max-height: 0;max-width: 0;overflow: hidden;text-align: left;background-color: #f0f8ff;}#sk-container-id-2 div.sk-toggleable__content pre {margin: 0.2em;color: black;border-radius: 0.25em;background-color: #f0f8ff;}#sk-container-id-2 input.sk-toggleable__control:checked~div.sk-toggleable__content {max-height: 200px;max-width: 100%;overflow: auto;}#sk-container-id-2 input.sk-toggleable__control:checked~label.sk-toggleable__label-arrow:before {content: \"▾\";}#sk-container-id-2 div.sk-estimator input.sk-toggleable__control:checked~label.sk-toggleable__label {background-color: #d4ebff;}#sk-container-id-2 div.sk-label input.sk-toggleable__control:checked~label.sk-toggleable__label {background-color: #d4ebff;}#sk-container-id-2 input.sk-hidden--visually {border: 0;clip: rect(1px 1px 1px 1px);clip: rect(1px, 1px, 1px, 1px);height: 1px;margin: -1px;overflow: hidden;padding: 0;position: absolute;width: 1px;}#sk-container-id-2 div.sk-estimator {font-family: monospace;background-color: #f0f8ff;border: 1px dotted black;border-radius: 0.25em;box-sizing: border-box;margin-bottom: 0.5em;}#sk-container-id-2 div.sk-estimator:hover {background-color: #d4ebff;}#sk-container-id-2 div.sk-parallel-item::after {content: \"\";width: 100%;border-bottom: 1px solid gray;flex-grow: 1;}#sk-container-id-2 div.sk-label:hover label.sk-toggleable__label {background-color: #d4ebff;}#sk-container-id-2 div.sk-serial::before {content: \"\";position: absolute;border-left: 1px solid gray;box-sizing: border-box;top: 0;bottom: 0;left: 50%;z-index: 0;}#sk-container-id-2 div.sk-serial {display: flex;flex-direction: column;align-items: center;background-color: white;padding-right: 0.2em;padding-left: 0.2em;position: relative;}#sk-container-id-2 div.sk-item {position: relative;z-index: 1;}#sk-container-id-2 div.sk-parallel {display: flex;align-items: stretch;justify-content: center;background-color: white;position: relative;}#sk-container-id-2 div.sk-item::before, #sk-container-id-2 div.sk-parallel-item::before {content: \"\";position: absolute;border-left: 1px solid gray;box-sizing: border-box;top: 0;bottom: 0;left: 50%;z-index: -1;}#sk-container-id-2 div.sk-parallel-item {display: flex;flex-direction: column;z-index: 1;position: relative;background-color: white;}#sk-container-id-2 div.sk-parallel-item:first-child::after {align-self: flex-end;width: 50%;}#sk-container-id-2 div.sk-parallel-item:last-child::after {align-self: flex-start;width: 50%;}#sk-container-id-2 div.sk-parallel-item:only-child::after {width: 0;}#sk-container-id-2 div.sk-dashed-wrapped {border: 1px dashed gray;margin: 0 0.4em 0.5em 0.4em;box-sizing: border-box;padding-bottom: 0.4em;background-color: white;}#sk-container-id-2 div.sk-label label {font-family: monospace;font-weight: bold;display: inline-block;line-height: 1.2em;}#sk-container-id-2 div.sk-label-container {text-align: center;}#sk-container-id-2 div.sk-container {/* jupyter's `normalize.less` sets `[hidden] { display: none; }` but bootstrap.min.css set `[hidden] { display: none !important; }` so we also need the `!important` here to be able to override the default hidden behavior on the sphinx rendered scikit-learn.org. See: https://github.com/scikit-learn/scikit-learn/issues/21755 */display: inline-block !important;position: relative;}#sk-container-id-2 div.sk-text-repr-fallback {display: none;}</style><div id=\"sk-container-id-2\" class=\"sk-top-container\"><div class=\"sk-text-repr-fallback\"><pre>LinearRegression()</pre><b>In a Jupyter environment, please rerun this cell to show the HTML representation or trust the notebook. <br />On GitHub, the HTML representation is unable to render, please try loading this page with nbviewer.org.</b></div><div class=\"sk-container\" hidden><div class=\"sk-item\"><div class=\"sk-estimator sk-toggleable\"><input class=\"sk-toggleable__control sk-hidden--visually\" id=\"sk-estimator-id-2\" type=\"checkbox\" checked><label for=\"sk-estimator-id-2\" class=\"sk-toggleable__label sk-toggleable__label-arrow\">LinearRegression</label><div class=\"sk-toggleable__content\"><pre>LinearRegression()</pre></div></div></div></div></div>"
      ],
      "text/plain": [
       "LinearRegression()"
      ]
     },
     "execution_count": 42,
     "metadata": {},
     "output_type": "execute_result"
    }
   ],
   "source": [
    "model.fit(train[predictors], train[target])"
   ]
  },
  {
   "cell_type": "code",
   "execution_count": 43,
   "id": "a929e35d-8109-4bcb-a6ac-cb690e87c3b4",
   "metadata": {},
   "outputs": [],
   "source": [
    "predictions = model.predict(test[predictors])"
   ]
  },
  {
   "cell_type": "code",
   "execution_count": 44,
   "id": "2b18c292-d6c3-4ff3-86ae-a60f9f8ae3bf",
   "metadata": {},
   "outputs": [
    {
     "data": {
      "text/plain": [
       "array([55713.22661653, 12480.0300527 , 27343.94897903, 36039.52821385])"
      ]
     },
     "execution_count": 44,
     "metadata": {},
     "output_type": "execute_result"
    }
   ],
   "source": [
    "predictions"
   ]
  },
  {
   "cell_type": "code",
   "execution_count": 45,
   "id": "486d669c-b525-4368-97c0-c1d1cbbd8020",
   "metadata": {},
   "outputs": [
    {
     "name": "stderr",
     "output_type": "stream",
     "text": [
      "/tmp/ipykernel_15785/2110851466.py:1: SettingWithCopyWarning: \n",
      "A value is trying to be set on a copy of a slice from a DataFrame.\n",
      "Try using .loc[row_indexer,col_indexer] = value instead\n",
      "\n",
      "See the caveats in the documentation: https://pandas.pydata.org/pandas-docs/stable/user_guide/indexing.html#returning-a-view-versus-a-copy\n",
      "  test['predictions'] = predictions\n"
     ]
    }
   ],
   "source": [
    "test['predictions'] = predictions"
   ]
  },
  {
   "cell_type": "code",
   "execution_count": 46,
   "id": "99ee8da9-d472-42f0-8ca4-06ffad8b4b22",
   "metadata": {},
   "outputs": [
    {
     "name": "stderr",
     "output_type": "stream",
     "text": [
      "/tmp/ipykernel_15785/3175162175.py:1: SettingWithCopyWarning: \n",
      "A value is trying to be set on a copy of a slice from a DataFrame.\n",
      "Try using .loc[row_indexer,col_indexer] = value instead\n",
      "\n",
      "See the caveats in the documentation: https://pandas.pydata.org/pandas-docs/stable/user_guide/indexing.html#returning-a-view-versus-a-copy\n",
      "  test['predictions'] = test['predictions'].astype('int') # or we can use round()\n"
     ]
    }
   ],
   "source": [
    "test['predictions'] = test['predictions'].astype('int') # or we can use round()"
   ]
  },
  {
   "cell_type": "code",
   "execution_count": 47,
   "id": "4829f942-768d-49ba-8f8e-ead447cf7123",
   "metadata": {},
   "outputs": [
    {
     "data": {
      "text/html": [
       "<div>\n",
       "<style scoped>\n",
       "    .dataframe tbody tr th:only-of-type {\n",
       "        vertical-align: middle;\n",
       "    }\n",
       "\n",
       "    .dataframe tbody tr th {\n",
       "        vertical-align: top;\n",
       "    }\n",
       "\n",
       "    .dataframe thead th {\n",
       "        text-align: right;\n",
       "    }\n",
       "</style>\n",
       "<table border=\"1\" class=\"dataframe\">\n",
       "  <thead>\n",
       "    <tr style=\"text-align: right;\">\n",
       "      <th></th>\n",
       "      <th>experience</th>\n",
       "      <th>test_score</th>\n",
       "      <th>interview_score</th>\n",
       "      <th>Salary</th>\n",
       "      <th>predictions</th>\n",
       "    </tr>\n",
       "  </thead>\n",
       "  <tbody>\n",
       "    <tr>\n",
       "      <th>16</th>\n",
       "      <td>12.0</td>\n",
       "      <td>9.0</td>\n",
       "      <td>9.0</td>\n",
       "      <td>58000</td>\n",
       "      <td>55713</td>\n",
       "    </tr>\n",
       "    <tr>\n",
       "      <th>17</th>\n",
       "      <td>6.0</td>\n",
       "      <td>2.0</td>\n",
       "      <td>6.0</td>\n",
       "      <td>12000</td>\n",
       "      <td>12480</td>\n",
       "    </tr>\n",
       "    <tr>\n",
       "      <th>18</th>\n",
       "      <td>3.0</td>\n",
       "      <td>5.0</td>\n",
       "      <td>5.0</td>\n",
       "      <td>20000</td>\n",
       "      <td>27343</td>\n",
       "    </tr>\n",
       "    <tr>\n",
       "      <th>19</th>\n",
       "      <td>5.0</td>\n",
       "      <td>6.0</td>\n",
       "      <td>7.0</td>\n",
       "      <td>35000</td>\n",
       "      <td>36039</td>\n",
       "    </tr>\n",
       "  </tbody>\n",
       "</table>\n",
       "</div>"
      ],
      "text/plain": [
       "    experience  test_score  interview_score  Salary  predictions\n",
       "16        12.0         9.0              9.0   58000        55713\n",
       "17         6.0         2.0              6.0   12000        12480\n",
       "18         3.0         5.0              5.0   20000        27343\n",
       "19         5.0         6.0              7.0   35000        36039"
      ]
     },
     "execution_count": 47,
     "metadata": {},
     "output_type": "execute_result"
    }
   ],
   "source": [
    "test"
   ]
  },
  {
   "cell_type": "code",
   "execution_count": 48,
   "id": "f4ddb22c-d16b-49a5-987e-e7a12c32c95c",
   "metadata": {},
   "outputs": [],
   "source": [
    "from sklearn.metrics import mean_absolute_error\n",
    "error = mean_absolute_error(test['Salary'], test['predictions'])"
   ]
  },
  {
   "cell_type": "code",
   "execution_count": 49,
   "id": "92202c5c-6ad4-45d4-8ef9-d917092687f3",
   "metadata": {},
   "outputs": [
    {
     "data": {
      "text/plain": [
       "2787.25"
      ]
     },
     "execution_count": 49,
     "metadata": {},
     "output_type": "execute_result"
    }
   ],
   "source": [
    "# On average we are 2787 behind or made error \n",
    "error"
   ]
  },
  {
   "cell_type": "code",
   "execution_count": 50,
   "id": "b05ae9f3-c86e-4071-b7d4-193801fb0265",
   "metadata": {},
   "outputs": [
    {
     "data": {
      "text/plain": [
       "count       20.000000\n",
       "mean     30350.000000\n",
       "std      19780.439567\n",
       "min        500.000000\n",
       "25%      12750.000000\n",
       "50%      27500.000000\n",
       "75%      48500.000000\n",
       "max      60000.000000\n",
       "Name: Salary, dtype: float64"
      ]
     },
     "execution_count": 50,
     "metadata": {},
     "output_type": "execute_result"
    }
   ],
   "source": [
    "# As we can our predictions are lower than the standard deviation, this says that our model was not very off\n",
    "# We also know that it is a balanced dataset and also with no outlier\n",
    "df.describe()['Salary']"
   ]
  },
  {
   "cell_type": "code",
   "execution_count": 51,
   "id": "a44705b1-e148-414d-b06c-6753b4026559",
   "metadata": {},
   "outputs": [
    {
     "data": {
      "text/plain": [
       "16    2287\n",
       "17    -480\n",
       "18   -7343\n",
       "19   -1039\n",
       "dtype: int64"
      ]
     },
     "execution_count": 51,
     "metadata": {},
     "output_type": "execute_result"
    }
   ],
   "source": [
    "errors = test['Salary'] - test['predictions']\n",
    "errors"
   ]
  },
  {
   "cell_type": "code",
   "execution_count": 61,
   "id": "58664794-2a46-4dd0-9420-e83b05807f32",
   "metadata": {},
   "outputs": [
    {
     "name": "stdout",
     "output_type": "stream",
     "text": [
      "The model performance for testing set\n",
      "--------------------------------------\n",
      "MAE is 2787.25\n",
      "MSE is 15114984.75\n",
      "R2 score is 0.9507153543916853\n"
     ]
    }
   ],
   "source": [
    "mae = mean_absolute_error(test['Salary'], test['predictions'])\n",
    "mse = mean_squared_error(test['Salary'], test['predictions'])\n",
    "r2 = r2_score(test['Salary'], test['predictions'])\n",
    "\n",
    "\n",
    "\n",
    "print(\"The model performance for testing set\")\n",
    "print(\"--------------------------------------\")\n",
    "print('MAE is {}'.format(mae))\n",
    "print('MSE is {}'.format(mse))\n",
    "print('R2 score is {}'.format(r2))"
   ]
  },
  {
   "cell_type": "code",
   "execution_count": 74,
   "id": "24714a95-ab97-4cfc-8705-48a6b0c7d70d",
   "metadata": {},
   "outputs": [
    {
     "data": {
      "image/png": "[encoded data removed]",
      "text/plain": [
       "<Figure size 432x288 with 1 Axes>"
      ]
     },
     "metadata": {
      "needs_background": "light"
     },
     "output_type": "display_data"
    }
   ],
   "source": [
    "fig, ax = plt.subplots()\n",
    "\n",
    "x = range(10000, 70000, 10000)\n",
    "y = range(10000, 70000, 10000)\n",
    "\n",
    "ax.scatter(test['predictions'], test['Salary'], edgecolors=(0, 0, 1))\n",
    "ax.plot(x, y, 'y', linewidth=2)\n",
    "# ax.plot([y_test.min(), y_test.max()], [y_test.min(), y_test.max()], 'r--', lw=3)\n",
    "ax.set_xlabel('Predicted')\n",
    "ax.set_ylabel('Actual')\n",
    "ax.set_title('Predictions VS Actual')\n",
    "plt.show()"
   ]
  },
  {
   "cell_type": "code",
   "execution_count": null,
   "id": "e157ab27-c9d0-49fa-8c1c-a66faaf4bc57",
   "metadata": {},
   "outputs": [],
   "source": []
  }
 ],
 "metadata": {
  "kernelspec": {
   "display_name": "Python 3 (ipykernel)",
   "language": "python",
   "name": "python3"
  },
  "language_info": {
   "codemirror_mode": {
    "name": "ipython",
    "version": 3
   },
   "file_extension": ".py",
   "mimetype": "text/x-python",
   "name": "python",
   "nbconvert_exporter": "python",
   "pygments_lexer": "ipython3",
   "version": "3.10.12"
  }
 },
 "nbformat": 4,
 "nbformat_minor": 5
}
